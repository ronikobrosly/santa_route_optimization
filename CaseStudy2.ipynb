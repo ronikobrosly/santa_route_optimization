{
 "cells": [
  {
   "cell_type": "markdown",
   "metadata": {},
   "source": [
    "# Case Study #2: Santa Claus Route Optimization Problem\n",
    "\n",
    "# Executive Summary:\n",
    "\n",
    "#### In this MVP, I'm trying to find the optimal route for Santa such that the weight-miles (weight * miles) is as low as possible in his night of sleigh flights. I chose to use the optimization method I mentioned on our group phone call: the Simulated Annealing (SA) algorithm (https://en.wikipedia.org/wiki/Simulated_annealing). It's great for problems like this with a massive search space (Traveling Salesperson and combinatorial optimation-type problems). It won't find the global, best solution, but it'll find a pretty good solution (and in a fraction of the time too). <br><br> Optimizing this route is difficult. There are 100,000 destinations around the world, and if you assume that the sleigh can hold all gifts without the need to return periodically to the North Pole, there are (100,000 - 1)! possible routes to consider.  In this problem, Santa has to periodically return to the North Pole, which means there are even more routes to consider. <br><br> At a high level, when implimenting the SA algorithm, you take an initial route, evaluate it, then randomly perturb the route, and see if it performs any better. In this exercise, I assumed that for every trip out of the North Pole, Santa is carrying as close to 1000 lbs on the sleigh as possible, and for each perturbation in each iteration of the algorithm, I randomly swapped a small amount of gifts around. This way, his night's worth of routes change a bit with each iteration. <br><br> Because this is just intended as a POC and given the limited time, I only ran the algorithm shown below for 100 iterations. This POC shows that the route improves by 0.55% even in a small number of iterations. As this web app demonstrates, simulated annealing can require 100,000s of iterations before dramatic improvements are made: http://toddwschneider.com/posts/traveling-salesman-with-simulated-annealing-r-and-shiny/      <br><br>Given additional time to work on the next version of this MVP, I would have tried: \n",
    "    * Instead of perturbing the list of gifts and locations between each trip of 1000 pounds, I could try optimizing the routes within each trip. That is, getting a solution where for each trip of 1000 pounds, he would be traveling in a circle, rather than inefficiently criss-crossing around the world.\n",
    "    * If I had access to a computer cluster, it would be effortless to speed up the computation here. I wrote this code allowing for parallelizing, so no changes would have to be made and it could run an order of magnitude faster. This would make it feasible to run 100,000s or a few million iterations.\n"
   ]
  },
  {
   "cell_type": "markdown",
   "metadata": {},
   "source": [
    "### Library Imports and defining functions"
   ]
  },
  {
   "cell_type": "code",
   "execution_count": 1,
   "metadata": {},
   "outputs": [
    {
     "name": "stdout",
     "output_type": "stream",
     "text": [
      "4\n"
     ]
    }
   ],
   "source": [
    "import time\n",
    "import pandas as pd\n",
    "import numpy as np\n",
    "from multiprocessing import Pool, cpu_count\n",
    "from geopy.distance import distance # Function to calculate the distance between two coordinatesthe Haversine formula\n",
    "from matplotlib import pyplot as plt\n",
    "import matplotlib.gridspec as gs\n",
    "%matplotlib inline\n",
    "\n",
    "pd.set_option('display.max_rows', 500)\n",
    "pd.options.mode.chained_assignment = None\n",
    "\n",
    "# I have 4 registered cores to work with on my laptop. I'll use that to speed the calculations up. \n",
    "core_count = cpu_count()\n",
    "print core_count\n",
    "\n",
    "# Set the random seed\n",
    "np.random.seed(512)"
   ]
  },
  {
   "cell_type": "code",
   "execution_count": 2,
   "metadata": {},
   "outputs": [],
   "source": [
    "# Function to swap a small number of rows (this is the small perturbation in the overall route that happens with each iteration of the algorithm)\n",
    "def shuffle_a_few_rows(df, n_swaps):\n",
    "    \"\"\"\n",
    "    df: the dataframe you're working with\n",
    "    n_swaps: the number swaps you want to do\n",
    "    \"\"\"\n",
    "    for i in range(0, n_swaps):\n",
    "        loc1 = np.random.randint(0, len(df))\n",
    "        loc2 = np.random.randint(0, len(df))\n",
    "        b, c = df.iloc[loc1].copy(), df.iloc[loc2].copy()\n",
    "        df.iloc[loc1],df.iloc[loc2] = c,b\n",
    "    return df\n",
    "\n",
    "\n",
    "\n",
    "# Function that to evaluate the weight-miles (weight * miles) associated with each north pole to houses to north pole trip.\n",
    "# *This can be parallelized easily*\n",
    "def evaluate_individual_trip_route(trip_number):\n",
    "    \"\"\"\n",
    "    trip_number: the integer trip number from the route dataframe\n",
    "    \"\"\"\n",
    "    sub_df = new_df.loc[new_df['trip_number'] == trip_number]\n",
    "    sub_df['shift_Latitude'] = sub_df['Latitude'].shift(-1)\n",
    "    sub_df['shift_Longitude'] = sub_df['Longitude'].shift(-1)\n",
    "    #sub_df.loc[sub_df.index[-1], 'shift_Latitude'] = 90\n",
    "    #sub_df.loc[sub_df.index[-1], 'shift_Longitude'] = 0\n",
    "    weight_miles = 0\n",
    "    current_sleigh_weight = sub_df['Weight'].sum() + 10\n",
    "    weight_miles += (distance(North_Pole, (sub_df['Latitude'].values[0], sub_df['Longitude'].values[0])).miles) * (current_sleigh_weight)\n",
    "    for row in sub_df.itertuples():\n",
    "        if np.isnan(row[7]):\n",
    "            weight_miles += (distance((row[2], row[3]), North_Pole).miles) * (current_sleigh_weight)\n",
    "        else:\n",
    "            current_sleigh_weight -= row[4]\n",
    "            weight_miles += (distance((row[2], row[3]), (row[7], row[8])).miles) * (current_sleigh_weight)\n",
    "    return weight_miles\n",
    "\n"
   ]
  },
  {
   "cell_type": "markdown",
   "metadata": {},
   "source": [
    "### Create an initial random route, and evaluate it"
   ]
  },
  {
   "cell_type": "code",
   "execution_count": 3,
   "metadata": {},
   "outputs": [],
   "source": [
    "# Create a list to store the results (total weight-miles the whole night) from each iteration\n",
    "final_results = []\n",
    "\n",
    "# Setting the north pole latitude and longitude\n",
    "North_Pole = (90, 0)\n",
    "\n",
    "### Read in the gifts dataset\n",
    "gifts = pd.read_csv(\"~/Desktop/gifts.csv\")\n",
    "\n",
    "# Do an initial shuffling of the dataset\n",
    "new_df = gifts.sample(frac = 1, random_state = 512).reset_index()[['GiftId', 'Latitude', 'Longitude', 'Weight']]\n",
    "\n",
    "# Calculate cumulative sum for weights\n",
    "new_df['cumul_weight'] = new_df['Weight'].cumsum()\n",
    "\n",
    "# Break up the gifts into trips (trips can't exceed 1000 lbs)\n",
    "new_df['trip_number'] = new_df['cumul_weight'] / 1000\n",
    "new_df['trip_number'] = new_df['trip_number'].astype(int)\n",
    "\n",
    "# Evaluate the overall route, using parallel processing\n",
    "pool = Pool(processes = core_count)\n",
    "results = pool.map(evaluate_individual_trip_route, range(0,1410))\n",
    "pool.close()\n",
    "\n",
    "# Get the toal weight-miles for that initial, random route. It's terrible, not surprisingly. \n",
    "old_result = sum(results)\n",
    "final_results.append(old_result)\n",
    "\n",
    "# Set up the old_df variable for the SA algorithm\n",
    "old_df = new_df.copy()"
   ]
  },
  {
   "cell_type": "markdown",
   "metadata": {},
   "source": [
    "### Setup the SA hyperparameters (temperature, number of iterations to try, etc.)"
   ]
  },
  {
   "cell_type": "code",
   "execution_count": 4,
   "metadata": {},
   "outputs": [],
   "source": [
    "temperature = 1.0 # Initial temperature\n",
    "count = 0 # Start the count at 0\n",
    "alpha = 0.9995 # The rate at which the temperate will drop over each iteration\n",
    "iteration_num = 100 # Total number of iterations to stop at"
   ]
  },
  {
   "cell_type": "markdown",
   "metadata": {},
   "source": [
    "### Run the SA algorithm. A while loop begins here..."
   ]
  },
  {
   "cell_type": "code",
   "execution_count": 5,
   "metadata": {},
   "outputs": [
    {
     "name": "stdout",
     "output_type": "stream",
     "text": [
      "Iteration: 1 \t Temperature: 0.9995 \t P: None \t Score: 2.89249626279e+11\n",
      "Iteration: 2 \t Temperature: 0.99900025 \t P: None \t Score: 2.89239171925e+11\n",
      "Iteration: 3 \t Temperature: 0.998500749875 \t P: None \t Score: 2.88902792411e+11\n",
      "Iteration: 4 \t Temperature: 0.9980014995 \t P: 0.517253958905 \t Score: 2.88902792411e+11\n",
      "Iteration: 5 \t Temperature: 0.99750249875 \t P: 0.384969918726 \t Score: 2.88902792411e+11\n",
      "Iteration: 6 \t Temperature: 0.997003747501 \t P: 0.192422144307 \t Score: 2.89392154563e+11\n",
      "Iteration: 7 \t Temperature: 0.996505245627 \t P: 2.63093349851 \t Score: 2.89427914791e+11\n",
      "Iteration: 8 \t Temperature: 0.996006993004 \t P: None \t Score: 2.89072523092e+11\n",
      "Iteration: 9 \t Temperature: 0.995508989508 \t P: 0.24802243159 \t Score: 2.89072523092e+11\n",
      "Iteration: 10 \t Temperature: 0.995011235013 \t P: 0.215666371708 \t Score: 2.89072523092e+11\n",
      "Iteration: 11 \t Temperature: 0.994513729396 \t P: 0.134463953551 \t Score: 2.89072523092e+11\n",
      "Iteration: 12 \t Temperature: 0.994016472531 \t P: 0.148656708144 \t Score: 2.89072523092e+11\n",
      "Iteration: 13 \t Temperature: 0.993519464295 \t P: None \t Score: 2.88819412787e+11\n",
      "Iteration: 14 \t Temperature: 0.993022704563 \t P: 0.128300611373 \t Score: 2.88819412787e+11\n",
      "Iteration: 15 \t Temperature: 0.99252619321 \t P: 0.102557436692 \t Score: 2.88819412787e+11\n",
      "Iteration: 16 \t Temperature: 0.992029930114 \t P: 0.0877554325677 \t Score: 2.89784448198e+11\n",
      "Iteration: 17 \t Temperature: 0.991533915149 \t P: None \t Score: 2.89512904223e+11\n",
      "Iteration: 18 \t Temperature: 0.991038148191 \t P: 0.622032776672 \t Score: 2.89648624301e+11\n",
      "Iteration: 19 \t Temperature: 0.990542629117 \t P: None \t Score: 2.89141548889e+11\n",
      "Iteration: 20 \t Temperature: 0.990047357802 \t P: 1.25346848712 \t Score: 2.89208113275e+11\n",
      "Iteration: 21 \t Temperature: 0.989552334123 \t P: 4.76983419232 \t Score: 2.8922569268e+11\n",
      "Iteration: 22 \t Temperature: 0.989057557956 \t P: 0.174898399152 \t Score: 2.8922569268e+11\n",
      "Iteration: 23 \t Temperature: 0.988563029177 \t P: None \t Score: 2.89179873178e+11\n",
      "Iteration: 24 \t Temperature: 0.988068747663 \t P: 0.216753122695 \t Score: 2.89179873178e+11\n",
      "Iteration: 25 \t Temperature: 0.987574713289 \t P: 0.189213045067 \t Score: 2.89179873178e+11\n",
      "Iteration: 26 \t Temperature: 0.987080925932 \t P: 0.180407978065 \t Score: 2.89607222659e+11\n",
      "Iteration: 27 \t Temperature: 0.986587385469 \t P: 1.28586520044 \t Score: 2.89668171891e+11\n",
      "Iteration: 28 \t Temperature: 0.986094091777 \t P: 0.341627962218 \t Score: 2.89668171891e+11\n",
      "Iteration: 29 \t Temperature: 0.985601044731 \t P: 0.375987666516 \t Score: 2.89668171891e+11\n",
      "Iteration: 30 \t Temperature: 0.985108244208 \t P: None \t Score: 2.88630166153e+11\n",
      "Iteration: 31 \t Temperature: 0.984615690086 \t P: 0.0954032625088 \t Score: 2.88630166153e+11\n",
      "Iteration: 32 \t Temperature: 0.984123382241 \t P: 0.0525683032876 \t Score: 2.88630166153e+11\n",
      "Iteration: 33 \t Temperature: 0.98363132055 \t P: 0.0628071676595 \t Score: 2.88630166153e+11\n",
      "Iteration: 34 \t Temperature: 0.98313950489 \t P: 0.0850294079813 \t Score: 2.88630166153e+11\n",
      "Iteration: 35 \t Temperature: 0.982647935137 \t P: 0.103948877329 \t Score: 2.88630166153e+11\n",
      "Iteration: 36 \t Temperature: 0.98215661117 \t P: 0.112592270821 \t Score: 2.88630166153e+11\n",
      "Iteration: 37 \t Temperature: 0.981665532864 \t P: 0.140502377735 \t Score: 2.88630166153e+11\n",
      "Iteration: 38 \t Temperature: 0.981174700098 \t P: 0.619562566309 \t Score: 2.88630166153e+11\n",
      "Iteration: 39 \t Temperature: 0.980684112748 \t P: 0.121706922638 \t Score: 2.89182866419e+11\n",
      "Iteration: 40 \t Temperature: 0.980193770691 \t P: 0.524456864111 \t Score: 2.89313570425e+11\n",
      "Iteration: 41 \t Temperature: 0.979703673806 \t P: None \t Score: 2.88976590946e+11\n",
      "Iteration: 42 \t Temperature: 0.979213821969 \t P: None \t Score: 2.88533611976e+11\n",
      "Iteration: 43 \t Temperature: 0.978724215058 \t P: 0.980364885017 \t Score: 2.88602512534e+11\n",
      "Iteration: 44 \t Temperature: 0.978234852951 \t P: 7.61482776364 \t Score: 2.88611704496e+11\n",
      "Iteration: 45 \t Temperature: 0.977745735524 \t P: 0.686543039713 \t Score: 2.88707570202e+11\n",
      "Iteration: 46 \t Temperature: 0.977256862656 \t P: None \t Score: 2.88465673457e+11\n",
      "Iteration: 47 \t Temperature: 0.976768234225 \t P: 0.515636180028 \t Score: 2.8859015923e+11\n",
      "Iteration: 48 \t Temperature: 0.976279850108 \t P: None \t Score: 2.88450590213e+11\n",
      "Iteration: 49 \t Temperature: 0.975791710183 \t P: 0.128453139363 \t Score: 2.88924846605e+11\n",
      "Iteration: 50 \t Temperature: 0.975303814328 \t P: None \t Score: 2.88807333648e+11\n",
      "Iteration: 51 \t Temperature: 0.974816162421 \t P: 0.140618396511 \t Score: 2.88807333648e+11\n",
      "Iteration: 52 \t Temperature: 0.974328754339 \t P: 0.114720182613 \t Score: 2.88807333648e+11\n",
      "Iteration: 53 \t Temperature: 0.973841589962 \t P: 0.309780042022 \t Score: 2.88807333648e+11\n",
      "Iteration: 54 \t Temperature: 0.973354669167 \t P: 6.53437233328 \t Score: 2.88817181802e+11\n",
      "Iteration: 55 \t Temperature: 0.972867991833 \t P: 0.619509370388 \t Score: 2.88913843384e+11\n",
      "Iteration: 56 \t Temperature: 0.972381557837 \t P: 0.230758867983 \t Score: 2.88913843384e+11\n",
      "Iteration: 57 \t Temperature: 0.971895367058 \t P: 0.810366761929 \t Score: 2.88986942958e+11\n",
      "Iteration: 58 \t Temperature: 0.971409419374 \t P: 0.0939262086143 \t Score: 2.88986942958e+11\n",
      "Iteration: 59 \t Temperature: 0.970923714665 \t P: 0.0971091677924 \t Score: 2.89550169061e+11\n",
      "Iteration: 60 \t Temperature: 0.970438252807 \t P: None \t Score: 2.89446324647e+11\n",
      "Iteration: 61 \t Temperature: 0.969953033681 \t P: None \t Score: 2.8905262827e+11\n",
      "Iteration: 62 \t Temperature: 0.969468057164 \t P: 1.03096478602 \t Score: 2.89107951176e+11\n",
      "Iteration: 63 \t Temperature: 0.968983323135 \t P: 0.189131232554 \t Score: 2.89107951176e+11\n",
      "Iteration: 64 \t Temperature: 0.968498831474 \t P: 0.43403943251 \t Score: 2.8923356667e+11\n",
      "Iteration: 65 \t Temperature: 0.968014582058 \t P: None \t Score: 2.87977284686e+11\n",
      "Iteration: 66 \t Temperature: 0.967530574767 \t P: 0.0748004233869 \t Score: 2.87977284686e+11\n",
      "Iteration: 67 \t Temperature: 0.96704680948 \t P: 0.0357864966124 \t Score: 2.87977284686e+11\n",
      "Iteration: 68 \t Temperature: 0.966563286075 \t P: 0.11533752878 \t Score: 2.87977284686e+11\n",
      "Iteration: 69 \t Temperature: 0.966080004432 \t P: 0.107562946482 \t Score: 2.87977284686e+11\n",
      "Iteration: 70 \t Temperature: 0.96559696443 \t P: 0.057865039715 \t Score: 2.87977284686e+11\n",
      "Iteration: 71 \t Temperature: 0.965114165948 \t P: 0.0441425712607 \t Score: 2.87977284686e+11\n",
      "Iteration: 72 \t Temperature: 0.964631608865 \t P: 0.0570606339528 \t Score: 2.87977284686e+11\n",
      "Iteration: 73 \t Temperature: 0.96414929306 \t P: 0.0432372909521 \t Score: 2.87977284686e+11\n",
      "Iteration: 74 \t Temperature: 0.963667218414 \t P: 0.047242195215 \t Score: 2.87977284686e+11\n",
      "Iteration: 75 \t Temperature: 0.963185384804 \t P: 0.0446192663043 \t Score: 2.87977284686e+11\n",
      "Iteration: 76 \t Temperature: 0.962703792112 \t P: 0.046660821786 \t Score: 2.87977284686e+11\n",
      "Iteration: 77 \t Temperature: 0.962222440216 \t P: 0.0562486770757 \t Score: 2.87977284686e+11\n",
      "Iteration: 78 \t Temperature: 0.961741328996 \t P: 0.0317037080542 \t Score: 2.87977284686e+11\n",
      "Iteration: 79 \t Temperature: 0.961260458331 \t P: 0.0473427510934 \t Score: 2.87977284686e+11\n",
      "Iteration: 80 \t Temperature: 0.960779828102 \t P: 0.0228080230809 \t Score: 2.87977284686e+11\n",
      "Iteration: 81 \t Temperature: 0.960299438188 \t P: 0.0296348937234 \t Score: 2.87977284686e+11\n",
      "Iteration: 82 \t Temperature: 0.959819288469 \t P: 0.0259625604013 \t Score: 2.87977284686e+11\n",
      "Iteration: 83 \t Temperature: 0.959339378825 \t P: 0.0213239390589 \t Score: 2.87977284686e+11\n",
      "Iteration: 84 \t Temperature: 0.958859709135 \t P: 0.025943401562 \t Score: 2.87977284686e+11\n",
      "Iteration: 85 \t Temperature: 0.958380279281 \t P: 0.0259542517775 \t Score: 2.87977284686e+11\n",
      "Iteration: 86 \t Temperature: 0.957901089141 \t P: 0.0290801421499 \t Score: 2.87977284686e+11\n",
      "Iteration: 87 \t Temperature: 0.957422138597 \t P: 0.0401776785774 \t Score: 2.87977284686e+11\n",
      "Iteration: 88 \t Temperature: 0.956943427527 \t P: 0.0295293316544 \t Score: 2.87977284686e+11\n",
      "Iteration: 89 \t Temperature: 0.956464955814 \t P: 0.0253106231089 \t Score: 2.87977284686e+11\n",
      "Iteration: 90 \t Temperature: 0.955986723336 \t P: 0.0247420176356 \t Score: 2.87977284686e+11\n",
      "Iteration: 91 \t Temperature: 0.955508729974 \t P: 0.0243557679352 \t Score: 2.87977284686e+11\n",
      "Iteration: 92 \t Temperature: 0.955030975609 \t P: 0.0324639036763 \t Score: 2.87977284686e+11\n",
      "Iteration: 93 \t Temperature: 0.954553460121 \t P: 0.0251154936626 \t Score: 2.87977284686e+11\n"
     ]
    },
    {
     "name": "stdout",
     "output_type": "stream",
     "text": [
      "Iteration: 94 \t Temperature: 0.954076183391 \t P: 0.0216268468474 \t Score: 2.87977284686e+11\n",
      "Iteration: 95 \t Temperature: 0.953599145299 \t P: 0.0190749211822 \t Score: 2.87977284686e+11\n",
      "Iteration: 96 \t Temperature: 0.953122345727 \t P: 0.0185969516035 \t Score: 2.87977284686e+11\n",
      "Iteration: 97 \t Temperature: 0.952645784554 \t P: 0.0238962960655 \t Score: 2.87977284686e+11\n",
      "Iteration: 98 \t Temperature: 0.952169461662 \t P: 0.0216572392355 \t Score: 2.87977284686e+11\n",
      "Iteration: 99 \t Temperature: 0.951693376931 \t P: 0.0219966463459 \t Score: 2.87977284686e+11\n",
      "Iteration: 100 \t Temperature: 0.951217530242 \t P: 0.0284560235701 \t Score: 2.87977284686e+11\n"
     ]
    }
   ],
   "source": [
    "while count < iteration_num:\n",
    "    temperature *= alpha\n",
    "    count += 1\n",
    "\n",
    "    ###### Swap 100 (0.1% of all routes) individual routes randomly (https://stackoverflow.com/questions/46890972/swapping-rows-within-the-same-pandas-dataframe)\n",
    "    new_df = shuffle_a_few_rows(old_df, 10)\n",
    "\n",
    "    ###### Evaluate the new_dataset\n",
    "\n",
    "    # Calculate cumulative sum for weights\n",
    "    new_df['cumul_weight'] = new_df['Weight'].cumsum()\n",
    "\n",
    "    # Break up the gifts into trips (trips can't exceed 1000 lbs)\n",
    "    new_df['trip_number'] = new_df['cumul_weight'] / 1000\n",
    "    new_df['trip_number'] = new_df['trip_number'].astype(int)\n",
    "\n",
    "    pool = Pool(processes = core_count)\n",
    "    results = pool.map(evaluate_individual_trip_route, range(0,1410))\n",
    "    pool.close()\n",
    "\n",
    "    # Evaluate the new route list \n",
    "    new_result = sum(results)\n",
    "\n",
    "    \n",
    "    #### Compare new result with old result, decide whether to accept the challenger route as the champion\n",
    "\n",
    "    if new_result < old_result:\n",
    "        old_df = new_df.copy()\n",
    "        old_result = new_result\n",
    "        p = None\n",
    "        final_results.append(old_result)\n",
    "\n",
    "        print \"Iteration: {0} \\t Temperature: {1} \\t P: {2} \\t Score: {3}\".format(count, temperature, p, old_result)\n",
    "\n",
    "    else:\n",
    "        uniform_rand_num = np.random.uniform(0,1)\n",
    "        p = 1e8 * np.exp(-((np.log(new_result - old_result))/temperature))\n",
    "\n",
    "        if p > uniform_rand_num:\n",
    "            old_df = new_df.copy()\n",
    "            old_result = new_result\n",
    "            final_results.append(old_result)\n",
    "            print \"Iteration: {0} \\t Temperature: {1} \\t P: {2} \\t Score: {3}\".format(count, temperature, p, old_result)\n",
    "        else:\n",
    "            print \"Iteration: {0} \\t Temperature: {1} \\t P: {2} \\t Score: {3}\".format(count, temperature, p, old_result)\n",
    "            final_results.append(old_result)\n",
    "            continue\n"
   ]
  },
  {
   "cell_type": "code",
   "execution_count": 6,
   "metadata": {},
   "outputs": [
    {
     "data": {
      "text/plain": [
       "Text(0.5,1,' ')"
      ]
     },
     "execution_count": 6,
     "metadata": {},
     "output_type": "execute_result"
    },
    {
     "data": {
      "image/png": "[encoded data removed]",
      "text/plain": [
       "<Figure size 800x480 with 1 Axes>"
      ]
     },
     "metadata": {},
     "output_type": "display_data"
    }
   ],
   "source": [
    "fig=plt.figure(figsize=(10, 6), dpi= 80, facecolor='w', edgecolor='k')\n",
    "\n",
    "g1 = gs.GridSpec(1,1)\n",
    "\n",
    "ax1 = plt.subplot(g1[0,0])\n",
    "plt.plot((final_results))\n",
    "plt.xlabel('Iteration Number', {'fontsize': 12})\n",
    "plt.ylabel('Total Score For The Night  (100s of billions of weight-miles)', {'fontsize': 12})\n",
    "plt.title(' ')"
   ]
  }
 ],
 "metadata": {
  "kernelspec": {
   "display_name": "Python (ascension)",
   "language": "python",
   "name": "ascension"
  },
  "language_info": {
   "codemirror_mode": {
    "name": "ipython",
    "version": 2
   },
   "file_extension": ".py",
   "mimetype": "text/x-python",
   "name": "python",
   "nbconvert_exporter": "python",
   "pygments_lexer": "ipython2",
   "version": "2.7.15"
  }
 },
 "nbformat": 4,
 "nbformat_minor": 2
}
